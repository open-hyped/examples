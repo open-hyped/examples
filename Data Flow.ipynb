{
 "cells": [
  {
   "cell_type": "code",
   "execution_count": 1,
   "id": "77683114-235d-4b1d-8410-2fd13c21cae0",
   "metadata": {},
   "outputs": [
    {
     "data": {
      "text/plain": [
       "True"
      ]
     },
     "execution_count": 1,
     "metadata": {},
     "output_type": "execute_result"
    }
   ],
   "source": [
    "import datasets\n",
    "import numpy as np\n",
    "# import hyped components\n",
    "from hyped.data.pipe import DataPipe\n",
    "from hyped.data.processors.api.openai_chat import OpenAIChatCompletion, OpenAIChatCompletionConfig\n",
    "from hyped.data.processors.templates.jinja2 import Jinja2, Jinja2Config\n",
    "from hyped.data.processors.parsers.json import JsonParser, JsonParserConfig\n",
    "from hyped.common.feature_key import FeatureCollection, Const, FeatureDict\n",
    "# import matplotlib\n",
    "import matplotlib.pyplot as plt\n",
    "# load openai key from .env file\n",
    "from dotenv import load_dotenv\n",
    "load_dotenv()"
   ]
  },
  {
   "cell_type": "code",
   "execution_count": 3,
   "id": "382b7286-0321-4597-bc4e-7235da4d5b86",
   "metadata": {},
   "outputs": [],
   "source": [
    "pipe = DataPipe(\n",
    "    [\n",
    "        Jinja2(\n",
    "            Jinja2Config(\n",
    "                template=\"{{ role }}\",\n",
    "                features=FeatureDict({\n",
    "                    \"role\": Const(\"AI Assistant\"),\n",
    "                }),\n",
    "                output=\"user_prompt\",\n",
    "            )\n",
    "        ),\n",
    "        # OpenAIChatCompletion(\n",
    "        #     OpenAIChatCompletionConfig(\n",
    "        #         messages=FeatureCollection(\n",
    "        #             [\n",
    "        #                 {\n",
    "        #                     \"role\": Const(\"system\"),\n",
    "        #                     \"content\": Const(\n",
    "        #                         \"Given text excerpts from IMDb movie reviews, your task is to predict \"\n",
    "        #                         \"whether each review is positive or negative. Your output should be a \"\n",
    "        #                         \"json string of the following format: {\\\"label\\\": <LABEL>} where \"\n",
    "        #                         \"<LABEL> is either \\\"positive\\\" or \\\"negative\\\".\"\n",
    "        #                     )\n",
    "        #                 },\n",
    "        #                 {\n",
    "        #                     \"role\": Const(\"user\"),\n",
    "        #                     \"content\": \"user_prompt\"\n",
    "        #                 }\n",
    "        #             ]\n",
    "        #         ),\n",
    "        #         model=\"gpt-3.5-turbo-0125\",\n",
    "        #         response_format={\"type\": \"json_object\"},\n",
    "        #     )\n",
    "        # ),\n",
    "        # JsonParser(\n",
    "        #     JsonParserConfig(\n",
    "        #         json_str=(\"completion\", \"message\"),\n",
    "        #         scheme=datasets.Features(\n",
    "        #             {\n",
    "        #                 \"label\": datasets.ClassLabel(\n",
    "        #                     names=[\"negative\", \"positive\"]\n",
    "        #                 )\n",
    "        #             }\n",
    "        #         ),\n",
    "        #         output_format={\"pred\": (\"parsed\", \"label\")}\n",
    "        #     )\n",
    "        # )\n",
    "    ]\n",
    ")"
   ]
  },
  {
   "cell_type": "code",
   "execution_count": 4,
   "id": "57623969-be0a-4cbb-a68f-18a7ac83814a",
   "metadata": {},
   "outputs": [
    {
     "data": {
      "text/plain": [
       "Dataset({\n",
       "    features: ['text', 'label'],\n",
       "    num_rows: 10\n",
       "})"
      ]
     },
     "execution_count": 4,
     "metadata": {},
     "output_type": "execute_result"
    }
   ],
   "source": [
    "ds = datasets.load_dataset(\"stanfordnlp/imdb\", split=\"test\")\n",
    "ds = ds.select(np.random.choice(len(ds), 10))\n",
    "ds"
   ]
  },
  {
   "cell_type": "code",
   "execution_count": 5,
   "id": "2a80e06c-eb01-4829-95c2-879be0239582",
   "metadata": {},
   "outputs": [
    {
     "data": {
      "application/vnd.jupyter.widget-view+json": {
       "model_id": "a86d70c4f45347a996d40763962e2d2b",
       "version_major": 2,
       "version_minor": 0
      },
      "text/plain": [
       "Map:   0%|          | 0/10 [00:00<?, ? examples/s]"
      ]
     },
     "metadata": {},
     "output_type": "display_data"
    }
   ],
   "source": [
    "# apply pipeline to dataset\n",
    "out_ds = pipe.apply(ds)"
   ]
  },
  {
   "cell_type": "code",
   "execution_count": 6,
   "id": "abdb988a-0fb5-4342-a53e-d59b6c6055d8",
   "metadata": {},
   "outputs": [
    {
     "name": "stdout",
     "output_type": "stream",
     "text": [
      "AI Assistant\n"
     ]
    }
   ],
   "source": [
    "print(out_ds[0][\"user_prompt\"])"
   ]
  },
  {
   "cell_type": "code",
   "execution_count": 5,
   "id": "160b16ee-f035-411d-b104-fc22d33c845c",
   "metadata": {},
   "outputs": [
    {
     "data": {
      "text/plain": [
       "1.0"
      ]
     },
     "execution_count": 5,
     "metadata": {},
     "output_type": "execute_result"
    }
   ],
   "source": [
    "preds = np.asarray(out_ds[\"pred\"])\n",
    "trues = np.asarray(out_ds[\"label\"])\n",
    "# compute accuracy\n",
    "(preds == trues).astype(float).mean()"
   ]
  }
 ],
 "metadata": {
  "kernelspec": {
   "display_name": "Python 3 (ipykernel)",
   "language": "python",
   "name": "python3"
  },
  "language_info": {
   "codemirror_mode": {
    "name": "ipython",
    "version": 3
   },
   "file_extension": ".py",
   "mimetype": "text/x-python",
   "name": "python",
   "nbconvert_exporter": "python",
   "pygments_lexer": "ipython3",
   "version": "3.11.9"
  }
 },
 "nbformat": 4,
 "nbformat_minor": 5
}
